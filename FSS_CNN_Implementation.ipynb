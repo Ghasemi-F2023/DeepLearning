{
  "nbformat": 4,
  "nbformat_minor": 0,
  "metadata": {
    "colab": {
      "name": "FSS_CNN_Implementation.ipynb",
      "provenance": []
    },
    "kernelspec": {
      "name": "python3",
      "display_name": "Python 3"
    },
    "language_info": {
      "name": "python"
    },
    "gpuClass": "standard"
  },
  "cells": [
    {
      "cell_type": "code",
      "source": [
        "from google.colab import drive\n",
        "drive.mount('/content/drive')"
      ],
      "metadata": {
        "colab": {
          "base_uri": "https://localhost:8080/"
        },
        "id": "vEeSHOKx--7n",
        "outputId": "17cdf5db-ccce-4662-d3b4-d490d42456f2"
      },
      "execution_count": 1,
      "outputs": [
        {
          "output_type": "stream",
          "name": "stdout",
          "text": [
            "Drive already mounted at /content/drive; to attempt to forcibly remount, call drive.mount(\"/content/drive\", force_remount=True).\n"
          ]
        }
      ]
    },
    {
      "cell_type": "code",
      "source": [
        "from tensorflow.keras.datasets.mnist import load_data\n",
        "from tensorflow.keras import Sequential\n",
        "from tensorflow.keras import layers\n",
        "from tensorflow.keras.utils import plot_model\n",
        "import matplotlib.pyplot as plt\n",
        "import numpy as np\n",
        "import tensorflow.keras.models as models"
      ],
      "metadata": {
        "id": "APm79dhhEZaM"
      },
      "execution_count": 2,
      "outputs": []
    },
    {
      "cell_type": "code",
      "source": [
        "(X_train, y_train), (X_test, y_test) = load_data()"
      ],
      "metadata": {
        "id": "lruBQfGqFGlw"
      },
      "execution_count": 3,
      "outputs": []
    },
    {
      "cell_type": "code",
      "source": [
        "X_train.shape"
      ],
      "metadata": {
        "colab": {
          "base_uri": "https://localhost:8080/"
        },
        "id": "r5zbHifgFN-9",
        "outputId": "eef55bf9-0681-4f9c-f34f-eb1319147bcd"
      },
      "execution_count": 4,
      "outputs": [
        {
          "output_type": "execute_result",
          "data": {
            "text/plain": [
              "(60000, 28, 28)"
            ]
          },
          "metadata": {},
          "execution_count": 4
        }
      ]
    },
    {
      "cell_type": "code",
      "source": [
        "plt.imshow(X_train[8])"
      ],
      "metadata": {
        "colab": {
          "base_uri": "https://localhost:8080/",
          "height": 283
        },
        "id": "a8xplEoFHBS-",
        "outputId": "8fd25ca8-8cca-4988-a059-9c4b474133ed"
      },
      "execution_count": 5,
      "outputs": [
        {
          "output_type": "execute_result",
          "data": {
            "text/plain": [
              "<matplotlib.image.AxesImage at 0x7fc6dee8ef50>"
            ]
          },
          "metadata": {},
          "execution_count": 5
        },
        {
          "output_type": "display_data",
          "data": {
            "text/plain": [
              "<Figure size 432x288 with 1 Axes>"
            ],
            "image/png": "[encoded data removed]"
          },
          "metadata": {
            "needs_background": "light"
          }
        }
      ]
    },
    {
      "cell_type": "code",
      "source": [
        "X_train = X_train.reshape(X_train.shape[0], X_train.shape[1], X_train.shape[2], 1)"
      ],
      "metadata": {
        "id": "c21c5nOwFlv2"
      },
      "execution_count": 6,
      "outputs": []
    },
    {
      "cell_type": "code",
      "source": [
        "X_train.shape"
      ],
      "metadata": {
        "colab": {
          "base_uri": "https://localhost:8080/"
        },
        "id": "ErqXcrIOGC2_",
        "outputId": "b689367c-ae12-4060-cc2c-1c6359b44589"
      },
      "execution_count": 7,
      "outputs": [
        {
          "output_type": "execute_result",
          "data": {
            "text/plain": [
              "(60000, 28, 28, 1)"
            ]
          },
          "metadata": {},
          "execution_count": 7
        }
      ]
    },
    {
      "cell_type": "code",
      "source": [
        "X_test = X_test.reshape(X_test.shape[0], X_test.shape[1], X_test.shape[2], 1)"
      ],
      "metadata": {
        "id": "3w2iIHicGEll"
      },
      "execution_count": 8,
      "outputs": []
    },
    {
      "cell_type": "code",
      "source": [
        "X_test.shape"
      ],
      "metadata": {
        "colab": {
          "base_uri": "https://localhost:8080/"
        },
        "id": "UcnDKMK9GpMK",
        "outputId": "0564bad3-255d-434d-e744-6c1bf0caf755"
      },
      "execution_count": 9,
      "outputs": [
        {
          "output_type": "execute_result",
          "data": {
            "text/plain": [
              "(10000, 28, 28, 1)"
            ]
          },
          "metadata": {},
          "execution_count": 9
        }
      ]
    },
    {
      "cell_type": "code",
      "source": [
        "X_train = X_train / 255.0\n",
        "X_test = X_test /255.0"
      ],
      "metadata": {
        "id": "PHcMg8KJGse0"
      },
      "execution_count": 10,
      "outputs": []
    },
    {
      "cell_type": "code",
      "source": [
        "inp_shape = X_train.shape[1:]\n",
        "inp_shape"
      ],
      "metadata": {
        "colab": {
          "base_uri": "https://localhost:8080/"
        },
        "id": "RbyVxLvMG4t5",
        "outputId": "b1713cc8-1994-402f-d9e8-d6b4c7568f50"
      },
      "execution_count": 11,
      "outputs": [
        {
          "output_type": "execute_result",
          "data": {
            "text/plain": [
              "(28, 28, 1)"
            ]
          },
          "metadata": {},
          "execution_count": 11
        }
      ]
    },
    {
      "cell_type": "code",
      "source": [
        "model = models.Sequential([\n",
        "    layers.Conv2D(32, (3, 3), activation='relu', \n",
        "                  padding='same', input_shape=inp_shape),\n",
        "    layers.MaxPool2D((2, 2)), \n",
        "    layers.Dropout(0.2),\n",
        "    layers.Conv2D(48, (3, 3), padding='same', activation='relu'),\n",
        "    layers.MaxPool2D((2, 2)),\n",
        "    layers.Flatten(),\n",
        "    layers.Dense(10, activation='softmax')\n",
        "])"
      ],
      "metadata": {
        "id": "5P9kvzCMG922"
      },
      "execution_count": 12,
      "outputs": []
    },
    {
      "cell_type": "code",
      "source": [
        "model.summary()"
      ],
      "metadata": {
        "colab": {
          "base_uri": "https://localhost:8080/"
        },
        "id": "9XgmJXyWLNCT",
        "outputId": "6722f6c7-7c5a-4f9a-b9fe-80a332ec8fb3"
      },
      "execution_count": 13,
      "outputs": [
        {
          "output_type": "stream",
          "name": "stdout",
          "text": [
            "Model: \"sequential\"\n",
            "_________________________________________________________________\n",
            " Layer (type)                Output Shape              Param #   \n",
            "=================================================================\n",
            " conv2d (Conv2D)             (None, 28, 28, 32)        320       \n",
            "                                                                 \n",
            " max_pooling2d (MaxPooling2D  (None, 14, 14, 32)       0         \n",
            " )                                                               \n",
            "                                                                 \n",
            " dropout (Dropout)           (None, 14, 14, 32)        0         \n",
            "                                                                 \n",
            " conv2d_1 (Conv2D)           (None, 14, 14, 48)        13872     \n",
            "                                                                 \n",
            " max_pooling2d_1 (MaxPooling  (None, 7, 7, 48)         0         \n",
            " 2D)                                                             \n",
            "                                                                 \n",
            " flatten (Flatten)           (None, 2352)              0         \n",
            "                                                                 \n",
            " dense (Dense)               (None, 10)                23530     \n",
            "                                                                 \n",
            "=================================================================\n",
            "Total params: 37,722\n",
            "Trainable params: 37,722\n",
            "Non-trainable params: 0\n",
            "_________________________________________________________________\n"
          ]
        }
      ]
    },
    {
      "cell_type": "code",
      "source": [
        "plot_model(model, 'model.jpg', show_shapes=True)"
      ],
      "metadata": {
        "colab": {
          "base_uri": "https://localhost:8080/",
          "height": 865
        },
        "id": "2dtHD8GmNEAF",
        "outputId": "ebd0124c-8242-4611-cd09-0e6ed1390896"
      },
      "execution_count": 14,
      "outputs": [
        {
          "output_type": "execute_result",
          "data": {
            "image/jpeg": "[encoded data removed]",
            "text/plain": [
              "<IPython.core.display.Image object>"
            ]
          },
          "metadata": {},
          "execution_count": 14
        }
      ]
    },
    {
      "cell_type": "code",
      "source": [
        "model.compile(optimizer='adam', loss='sparse_categorical_crossentropy',\n",
        "              metrics='accuracy')"
      ],
      "metadata": {
        "id": "b4tscFJ8OQn1"
      },
      "execution_count": 15,
      "outputs": []
    },
    {
      "cell_type": "code",
      "source": [
        "hst = model.fit(X_train, y_train, epochs=2, batch_size=128, verbose=1, validation_split=0.2)"
      ],
      "metadata": {
        "colab": {
          "base_uri": "https://localhost:8080/"
        },
        "id": "nYLscvbbO2LG",
        "outputId": "e40886fe-a600-427d-9359-1a9e719239f3"
      },
      "execution_count": 57,
      "outputs": [
        {
          "output_type": "stream",
          "name": "stdout",
          "text": [
            "Epoch 1/2\n",
            "375/375 [==============================] - 54s 143ms/step - loss: 0.0694 - accuracy: 0.9788 - val_loss: 0.0620 - val_accuracy: 0.9826\n",
            "Epoch 2/2\n",
            "375/375 [==============================] - 53s 140ms/step - loss: 0.0563 - accuracy: 0.9825 - val_loss: 0.0537 - val_accuracy: 0.9829\n"
          ]
        }
      ]
    },
    {
      "cell_type": "code",
      "source": [
        "loss, accuracy = model.evaluate(X_test, y_test, verbose=0)\n",
        "print(loss, accuracy)"
      ],
      "metadata": {
        "colab": {
          "base_uri": "https://localhost:8080/"
        },
        "id": "w3aG3Ni-PUh0",
        "outputId": "b098f4d0-5c71-4031-b69a-65745659b0bf"
      },
      "execution_count": 19,
      "outputs": [
        {
          "output_type": "stream",
          "name": "stdout",
          "text": [
            "0.06314782053232193 0.9804999828338623\n"
          ]
        }
      ]
    },
    {
      "cell_type": "code",
      "source": [
        "image = X_train[2]\n",
        "plt.imshow(np.squeeze(image), cmap='gray')\n",
        "plt.show()"
      ],
      "metadata": {
        "colab": {
          "base_uri": "https://localhost:8080/",
          "height": 265
        },
        "id": "Xhsc2NJ-P3If",
        "outputId": "5fbe87b9-b4f5-419d-f93d-d43f98f12ba8"
      },
      "execution_count": 21,
      "outputs": [
        {
          "output_type": "display_data",
          "data": {
            "text/plain": [
              "<Figure size 432x288 with 1 Axes>"
            ],
            "image/png": "[encoded data removed]"
          },
          "metadata": {
            "needs_background": "light"
          }
        }
      ]
    },
    {
      "cell_type": "code",
      "source": [
        "image.shape"
      ],
      "metadata": {
        "colab": {
          "base_uri": "https://localhost:8080/"
        },
        "id": "id0LC4tzQCme",
        "outputId": "5efec72d-89bc-4995-d069-cfb41185961d"
      },
      "execution_count": 22,
      "outputs": [
        {
          "output_type": "execute_result",
          "data": {
            "text/plain": [
              "(28, 28, 1)"
            ]
          },
          "metadata": {},
          "execution_count": 22
        }
      ]
    },
    {
      "cell_type": "code",
      "source": [
        "img_test = image.reshape(1, 28, 28, 1)"
      ],
      "metadata": {
        "id": "_kCm9F1mQCog"
      },
      "execution_count": 23,
      "outputs": []
    },
    {
      "cell_type": "code",
      "source": [
        "pred = model.predict([img_test])"
      ],
      "metadata": {
        "id": "TvAsMf_lQCqX"
      },
      "execution_count": 24,
      "outputs": []
    },
    {
      "cell_type": "code",
      "source": [
        "pred"
      ],
      "metadata": {
        "colab": {
          "base_uri": "https://localhost:8080/"
        },
        "id": "YHgzHN8CQCtN",
        "outputId": "0b317c90-10cb-4f50-b5d9-aa46f4df41c0"
      },
      "execution_count": 25,
      "outputs": [
        {
          "output_type": "execute_result",
          "data": {
            "text/plain": [
              "array([[2.9751452e-09, 2.9273922e-05, 1.3639239e-05, 5.1492509e-05,\n",
              "        9.9966788e-01, 2.4907891e-07, 2.4968392e-07, 2.9849021e-05,\n",
              "        1.4529024e-06, 2.0588402e-04]], dtype=float32)"
            ]
          },
          "metadata": {},
          "execution_count": 25
        }
      ]
    },
    {
      "cell_type": "code",
      "source": [
        "cls = np.argmax(pred)\n",
        "cls"
      ],
      "metadata": {
        "colab": {
          "base_uri": "https://localhost:8080/"
        },
        "id": "lKSdQkw6Qs3u",
        "outputId": "1cd0a296-fe20-4179-b268-6d557b1843c2"
      },
      "execution_count": 26,
      "outputs": [
        {
          "output_type": "execute_result",
          "data": {
            "text/plain": [
              "4"
            ]
          },
          "metadata": {},
          "execution_count": 26
        }
      ]
    },
    {
      "cell_type": "code",
      "source": [
        "import matplotlib.pyplot as plt\n",
        "import cv2 as cv"
      ],
      "metadata": {
        "id": "fk7r_AV9RLP4"
      },
      "execution_count": 58,
      "outputs": []
    },
    {
      "cell_type": "code",
      "source": [
        "img_pr_dir='/content/drive/MyDrive/test_img/8888.jpg'\n",
        "\n",
        "\n",
        "test_image = cv.imread(img_pr_dir, cv.IMREAD_GRAYSCALE)\n",
        "plt.imshow(test_image, cmap='gray')"
      ],
      "metadata": {
        "colab": {
          "base_uri": "https://localhost:8080/",
          "height": 283
        },
        "id": "v07TV2YFRoc5",
        "outputId": "74cd5549-eb6a-4eec-b1f9-1e95320265d2"
      },
      "execution_count": 59,
      "outputs": [
        {
          "output_type": "execute_result",
          "data": {
            "text/plain": [
              "<matplotlib.image.AxesImage at 0x7fc6d4137390>"
            ]
          },
          "metadata": {},
          "execution_count": 59
        },
        {
          "output_type": "display_data",
          "data": {
            "text/plain": [
              "<Figure size 432x288 with 1 Axes>"
            ],
            "image/png": "[encoded data removed]"
          },
          "metadata": {
            "needs_background": "light"
          }
        }
      ]
    },
    {
      "cell_type": "code",
      "source": [
        "test_image"
      ],
      "metadata": {
        "colab": {
          "base_uri": "https://localhost:8080/"
        },
        "id": "eoWvCgOmRs0I",
        "outputId": "10800a7b-4c9c-4bc7-e66e-cabe7ee0912e"
      },
      "execution_count": 60,
      "outputs": [
        {
          "output_type": "execute_result",
          "data": {
            "text/plain": [
              "array([[  3,   0,   4,   2,   0,   7,   7,   0,   0,   1,   4,   0,   0,\n",
              "          8,   1,  28,  30,   6,   1,   0,   0,   6,   0,   4,   1,   1,\n",
              "          1,   1],\n",
              "       [  3,   0,   3,   0,   7,   0,   0,   2,   4,   0,   5,  21,  78,\n",
              "        124, 146, 162, 189,  42,  15,   3,   8,   0,   1,   0,   1,   1,\n",
              "          1,   1],\n",
              "       [  0,   2,   5,   0,   6,   0,   8,   6,   0,   8,  88, 150, 164,\n",
              "        113,  66,  42,  61, 117, 152,  17,   2,   3,   6,  11,   1,   1,\n",
              "          1,   1],\n",
              "       [  1,   0,   2,   2,   0,   0,  11,   1,  36, 161, 166,  63,   7,\n",
              "          0,   3,   0,  22, 169,  88,   3,   0,   6,   0,   0,   1,   1,\n",
              "          1,   1],\n",
              "       [  7,   0,   0,   2,   2,   2,   0,  47, 178,  99,   7,   1,   0,\n",
              "          3,   1,   7, 159, 117,   0,   8,   3,   0,   5,   8,   1,   1,\n",
              "          1,   1],\n",
              "       [  5,   2,   6,   0,   1,   0,  30, 152, 104,   9,   0,  12,   0,\n",
              "         11,   2,  60, 164,  16,   8,   0,   6,   2,   6,   0,   1,   1,\n",
              "          1,   1],\n",
              "       [  0,   4,  10,   0,   0,   9, 111, 152,   3,   2,  14,   0,   9,\n",
              "          0,  17, 164,  83,   0,  11,   0,   3,   0,   2,   6,   1,   1,\n",
              "          1,   1],\n",
              "       [  4,   0,   0,   3,   8,  34, 171,  37,   1,   0,   0,   6,   4,\n",
              "          1, 105, 152,   4,   0,  13,   0,   5,   4,   4,   0,   1,   1,\n",
              "          1,   1],\n",
              "       [  5,   0,   5,   2,   0,  87, 152,   0,   1,   1,   0,   3,   2,\n",
              "         32, 168,  55,   5,   3,   4,   0,   1,   0,   4,   3,   1,   1,\n",
              "          1,   1],\n",
              "       [  0,   8,   3,   8,  12, 113, 120,   1,   1,   1,   3,  11,   0,\n",
              "        124, 124,   3,   0,   1,   3,   0,   7,   1,   0,   1,   1,   1,\n",
              "          1,   1],\n",
              "       [  0,   4,   6,   0,   0, 120, 114,   2,   7,   0,   0,   0,  31,\n",
              "        172,  56,   1,   0,   3,   9,   3,   4,   1,   5,   2,   1,   1,\n",
              "          1,   1],\n",
              "       [  0,   5,   1,   2,  11, 106, 144,   0,   0,   3,  12,   2, 117,\n",
              "        131,   0,   8,   8,   1,   0,   0,   5,   0,   0,   2,   1,   1,\n",
              "          1,   1],\n",
              "       [ 15,   2,   0,  13,   0,  38, 166,  60,  10,   4,   1,  12, 169,\n",
              "         56,   0,  12,   0,  13,  12,   0,   4,   1,   0,   3,   1,   1,\n",
              "          1,   1],\n",
              "       [  0,   9,   2,   0,  11,   5, 103, 166,  68,  19,   1,  69, 168,\n",
              "          8,   3,   0,   4,   0,   3,   5,   4,   1,   7,   3,   1,   1,\n",
              "          1,   1],\n",
              "       [  0,   2,   6,   1,  10,   0,   2,  79, 174, 166, 137, 158, 157,\n",
              "        113, 143, 117,  76,  26,   0,   1,   8,   0,   2,   3,   1,   1,\n",
              "          1,   1],\n",
              "       [  2,   3,   0,   9,   0,   2,   4,   0,   7,  45,  92, 166, 120,\n",
              "         94,  94, 120, 157, 167,  94,   2,   0,   6,   1,   6,   1,   1,\n",
              "          1,   1],\n",
              "       [  1,   1,   1,   1,   1,   1,   1,   1,   1,   6,  21, 169,  23,\n",
              "          0,  11,   0,   1,  59, 172,  89,   1,   9,   3,   1,   1,   1,\n",
              "          1,   1],\n",
              "       [  1,   1,   1,   1,   1,   1,   1,   1,   4,   4,  64, 154,   6,\n",
              "          6,   0,   3,  12,   3,  71, 160,  19,   0,   4,   4,   1,   1,\n",
              "          1,   1],\n",
              "       [  1,   1,   1,   1,   1,   1,   1,   1,   6,   0,  91, 141,   0,\n",
              "          6,   0,   4,   2,   0,  17, 175,  34,   6,   1,   0,   1,   1,\n",
              "          1,   1],\n",
              "       [  1,   1,   1,   1,   1,   1,   1,   1,   6,   0,  88, 137,  10,\n",
              "          0,   3,   2,   5,   2,  28, 163,  33,   8,   1,   1,   1,   1,\n",
              "          1,   1],\n",
              "       [  1,   1,   1,   1,   1,   1,   1,   1,   5,   0,  92, 135,   8,\n",
              "          0,   4,   2,   5,   1,  38, 159,  28,   3,   0,   5,   1,   1,\n",
              "          1,   1],\n",
              "       [  1,   1,   1,   1,   1,   1,   1,   1,   2,   0,  96, 136,   0,\n",
              "          2,   0,   2,   0,   5,  51, 157,  17,   2,   3,   1,   1,   1,\n",
              "          1,   1],\n",
              "       [  1,   1,   1,   1,   1,   1,   1,   1,   2,   0,  67, 153,  12,\n",
              "          2,   1,   2,  11,   4, 109, 129,   2,   0,   8,   0,   1,   1,\n",
              "          1,   1],\n",
              "       [  1,   1,   1,   1,   1,   1,   1,   1,   6,   1,  24, 176,  43,\n",
              "          0,  15,   3,   2,  30, 184,  56,   0,   9,   0,   5,   1,   1,\n",
              "          1,   1],\n",
              "       [  1,   1,   1,   1,   1,   1,   1,   1,   0,  10,   0, 105, 159,\n",
              "          0,   3,   0,  19, 177, 108,   0,   0,   5,   0,   3,   1,   1,\n",
              "          1,   1],\n",
              "       [  1,   1,   1,   1,   1,   1,   1,   1,   3,   0,   4,  19, 147,\n",
              "        154,  68,  87, 177, 102,   9,   1,   9,   2,   2,   0,   1,   1,\n",
              "          1,   1],\n",
              "       [  1,   1,   1,   1,   1,   1,   1,   1,   9,   0,   0,   2,  21,\n",
              "         96, 154, 148,  85,  15,   0,  12,   0,   0,   3,   2,   1,   1,\n",
              "          1,   1],\n",
              "       [  1,   1,   1,   1,   1,   1,   1,   1,   0,  11,   1,   2,   0,\n",
              "          5,   5,   5,   0,   0,  10,   0,   1,  16,   1,   0,   1,   1,\n",
              "          1,   1]], dtype=uint8)"
            ]
          },
          "metadata": {},
          "execution_count": 60
        }
      ]
    },
    {
      "cell_type": "code",
      "source": [
        "test_image.shape"
      ],
      "metadata": {
        "colab": {
          "base_uri": "https://localhost:8080/"
        },
        "id": "gxoVYPCcSEuM",
        "outputId": "1b0d1032-6c16-421d-e580-7443f450b64d"
      },
      "execution_count": 61,
      "outputs": [
        {
          "output_type": "execute_result",
          "data": {
            "text/plain": [
              "(28, 28)"
            ]
          },
          "metadata": {},
          "execution_count": 61
        }
      ]
    },
    {
      "cell_type": "code",
      "source": [
        "test_image = test_image.reshape(1, 28, 28, 1) /255.0"
      ],
      "metadata": {
        "id": "HSZuqoJDSKAI"
      },
      "execution_count": 62,
      "outputs": []
    },
    {
      "cell_type": "code",
      "source": [
        "test_image.shape"
      ],
      "metadata": {
        "colab": {
          "base_uri": "https://localhost:8080/"
        },
        "id": "HZeNt9FOSbfl",
        "outputId": "91baa9df-87eb-45d6-b4a8-8ae9bfce0266"
      },
      "execution_count": 63,
      "outputs": [
        {
          "output_type": "execute_result",
          "data": {
            "text/plain": [
              "(1, 28, 28, 1)"
            ]
          },
          "metadata": {},
          "execution_count": 63
        }
      ]
    },
    {
      "cell_type": "code",
      "source": [
        "pred2 = model.predict(test_image)\n",
        "pred2"
      ],
      "metadata": {
        "colab": {
          "base_uri": "https://localhost:8080/"
        },
        "id": "MVqf_NE9SfPX",
        "outputId": "7cbf46bc-2333-4c5c-a602-46b35a38f738"
      },
      "execution_count": 64,
      "outputs": [
        {
          "output_type": "execute_result",
          "data": {
            "text/plain": [
              "array([[1.31755432e-05, 2.46601761e-04, 1.07653083e-04, 9.84414667e-03,\n",
              "        1.46414071e-01, 3.57572347e-01, 3.28359723e-01, 1.02515034e-04,\n",
              "        1.55863866e-01, 1.47592172e-03]], dtype=float32)"
            ]
          },
          "metadata": {},
          "execution_count": 64
        }
      ]
    },
    {
      "cell_type": "code",
      "source": [
        "cls2 = np.argmax(pred2)\n",
        "cls2"
      ],
      "metadata": {
        "colab": {
          "base_uri": "https://localhost:8080/"
        },
        "id": "KF2iSKEeStZn",
        "outputId": "fad5cb3f-38e6-473f-8832-185cf3e542d0"
      },
      "execution_count": 65,
      "outputs": [
        {
          "output_type": "execute_result",
          "data": {
            "text/plain": [
              "5"
            ]
          },
          "metadata": {},
          "execution_count": 65
        }
      ]
    },
    {
      "cell_type": "code",
      "source": [],
      "metadata": {
        "id": "4oW_v31_SySF"
      },
      "execution_count": 56,
      "outputs": []
    }
  ]
}